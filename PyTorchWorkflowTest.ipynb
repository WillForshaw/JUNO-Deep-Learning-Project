{
 "cells": [
  {
   "cell_type": "markdown",
   "id": "1ac07ee9",
   "metadata": {},
   "source": [
    "### 1. Prepare/Load Data\n",
    "### 2. Build Model\n",
    "### 3. Fitting model\n",
    "### 4. Making predictions / evaluating model\n",
    "### 5. Saving and loading the model\n"
   ]
  },
  {
   "cell_type": "code",
   "execution_count": 9,
   "id": "c6f307c2",
   "metadata": {},
   "outputs": [],
   "source": [
    "import torch\n",
    "from torch import nn  # contains neural network building blocks for PyTorch\n",
    "import matplotlib.pyplot as plt\n",
    "\n"
   ]
  },
  {
   "cell_type": "code",
   "execution_count": 2,
   "id": "454440c0",
   "metadata": {},
   "outputs": [
    {
     "data": {
      "text/plain": [
       "(tensor([[0.0000],\n",
       "         [0.0200],\n",
       "         [0.0400],\n",
       "         [0.0600],\n",
       "         [0.0800],\n",
       "         [0.1000],\n",
       "         [0.1200],\n",
       "         [0.1400],\n",
       "         [0.1600],\n",
       "         [0.1800]]),\n",
       " tensor([[0.3000],\n",
       "         [0.3140],\n",
       "         [0.3280],\n",
       "         [0.3420],\n",
       "         [0.3560],\n",
       "         [0.3700],\n",
       "         [0.3840],\n",
       "         [0.3980],\n",
       "         [0.4120],\n",
       "         [0.4260]]),\n",
       " 50,\n",
       " 50)"
      ]
     },
     "execution_count": 2,
     "metadata": {},
     "output_type": "execute_result"
    }
   ],
   "source": [
    "# 1. Data Preparing and loading \n",
    "# Starting with a linear regression formula\n",
    "\n",
    "# create known parameters\n",
    "weight = 0.7\n",
    "bias = 0.3 \n",
    "\n",
    "start = 0\n",
    "end = 1 \n",
    "\n",
    "step =0.02\n",
    "\n",
    "X = torch.arange(start,end,step).unsqueeze(dim =1)\n",
    "y = weight*X +bias\n",
    "\n",
    "X[:10], y[:10], len(X), len(y)\n",
    "\n"
   ]
  },
  {
   "cell_type": "code",
   "execution_count": 3,
   "id": "1c23bda1",
   "metadata": {},
   "outputs": [
    {
     "data": {
      "text/plain": [
       "(50, 50)"
      ]
     },
     "execution_count": 3,
     "metadata": {},
     "output_type": "execute_result"
    }
   ],
   "source": [
    "len(X),len(y)"
   ]
  },
  {
   "cell_type": "code",
   "execution_count": null,
   "id": "fe4c78ff",
   "metadata": {},
   "outputs": [
    {
     "data": {
      "text/plain": [
       "(40, 40, 10, 10)"
      ]
     },
     "execution_count": 5,
     "metadata": {},
     "output_type": "execute_result"
    }
   ],
   "source": [
    "# Test, Validation, Train split \n",
    "# 80% train , 20% test\n",
    "train_split = int(0.8*len(X))\n",
    "train_split\n",
    "X_train, y_train = X[:train_split], y[:train_split]\n",
    "X_test, y_test = X[train_split:], y[train_split:]\n",
    "\n",
    "len(X_train), len(y_train), len(X_test), len(y_test)\n"
   ]
  },
  {
   "cell_type": "code",
   "execution_count": 10,
   "id": "656e160b",
   "metadata": {},
   "outputs": [
    {
     "data": {
      "image/png": "[encoded data removed]",
      "text/plain": [
       "<Figure size 1000x700 with 1 Axes>"
      ]
     },
     "metadata": {},
     "output_type": "display_data"
    }
   ],
   "source": [
    "def plot_pred(train_data = X_train,\n",
    "              train_labels=y_train,\n",
    "              test_data=X_test,\n",
    "              test_labels=y_test,\n",
    "              predictions=None):\n",
    "    plt.figure(figsize=(10,7))\n",
    "    plt.scatter(train_data, train_labels, c='b', s=4, label= 'Training Data')\n",
    "\n",
    "    plt.scatter(test_data, test_labels, c='g', s=4, label = 'Testing Data')\n",
    "    if predictions is not None:\n",
    "        plt.scatter(test_data, predictions, c = 'r', s =4, label='Predictions')\n",
    "    plt.legend()\n",
    "plot_pred()"
   ]
  },
  {
   "cell_type": "code",
   "execution_count": 114,
   "id": "0353c831",
   "metadata": {},
   "outputs": [],
   "source": [
    "# 2. Build a Model .40\n",
    "\n",
    "class LinearRegressionModel(nn.Module):\n",
    "    def __init__(self):\n",
    "        super().__init__()\n",
    "        self.weights = nn.Parameter(torch.randn(1,\n",
    "                                    requires_grad=True,\n",
    "                                    dtype=torch.float))\n",
    "        self.bias = nn.Parameter(torch.randn(1,\n",
    "                                    requires_grad=True,\n",
    "                                    dtype=torch.float))\n",
    "    def forward(self, x: torch.Tensor):\n",
    "            return self.weights*x + self.bias\n",
    "        \n"
   ]
  },
  {
   "cell_type": "markdown",
   "id": "422eca70",
   "metadata": {},
   "source": [
    "### PyTorch essentials\n",
    "* torch.nn = contains everything fot computational graphs (neural networks)\n",
    "* torch.nn.Parameter = what parameters should the model learn \n",
    "* torch.nn.Module = The best class for all nn module, if subclassing, overwrite forward\n",
    "* def forward() - all nn.module subclasses require you to overwrite forward, this method defines what happenes in the forward method\n",
    "\n",
    "\n",
    "\n",
    "\n"
   ]
  },
  {
   "cell_type": "code",
   "execution_count": 115,
   "id": "5dc2dc75",
   "metadata": {},
   "outputs": [
    {
     "data": {
      "text/plain": [
       "[Parameter containing:\n",
       " tensor([0.3367], requires_grad=True),\n",
       " Parameter containing:\n",
       " tensor([0.1288], requires_grad=True)]"
      ]
     },
     "execution_count": 115,
     "metadata": {},
     "output_type": "execute_result"
    }
   ],
   "source": [
    "# Checking contents of model\n",
    "\n",
    "# create random seed\n",
    "torch.manual_seed(42)\n",
    "#create an instance of the model (subclass of nn.module)\n",
    "model_0 = LinearRegressionModel()\n",
    "list(model_0.parameters())"
   ]
  },
  {
   "cell_type": "code",
   "execution_count": 116,
   "id": "ce042725",
   "metadata": {},
   "outputs": [
    {
     "data": {
      "text/plain": [
       "OrderedDict([('weights', tensor([0.3367])), ('bias', tensor([0.1288]))])"
      ]
     },
     "execution_count": 116,
     "metadata": {},
     "output_type": "execute_result"
    }
   ],
   "source": [
    "#model output of weight and bias \n",
    "model_0.state_dict()"
   ]
  },
  {
   "cell_type": "code",
   "execution_count": 117,
   "id": "5df27f43",
   "metadata": {},
   "outputs": [
    {
     "data": {
      "text/plain": [
       "(0.7, 0.3)"
      ]
     },
     "execution_count": 117,
     "metadata": {},
     "output_type": "execute_result"
    }
   ],
   "source": [
    "# true values / target values \n",
    "weight, bias"
   ]
  },
  {
   "cell_type": "code",
   "execution_count": 118,
   "id": "6b5e0f42",
   "metadata": {},
   "outputs": [
    {
     "data": {
      "text/plain": [
       "tensor([[0.3982],\n",
       "        [0.4049],\n",
       "        [0.4116],\n",
       "        [0.4184],\n",
       "        [0.4251],\n",
       "        [0.4318],\n",
       "        [0.4386],\n",
       "        [0.4453],\n",
       "        [0.4520],\n",
       "        [0.4588]])"
      ]
     },
     "execution_count": 118,
     "metadata": {},
     "output_type": "execute_result"
    }
   ],
   "source": [
    "# making predicts using torch.inference\n",
    "# predictive power = how well it predicts y_test based on X_test\n",
    "with torch.inference_mode():\n",
    "    y_preds = model_0(X_test)\n",
    "\n",
    "y_preds"
   ]
  },
  {
   "cell_type": "code",
   "execution_count": 119,
   "id": "733aec33",
   "metadata": {},
   "outputs": [
    {
     "data": {
      "image/png": "[encoded data removed]",
      "text/plain": [
       "<Figure size 1000x700 with 1 Axes>"
      ]
     },
     "metadata": {},
     "output_type": "display_data"
    }
   ],
   "source": [
    "plot_pred(predictions=y_preds) # initially the preds are very bad, very far away"
   ]
  },
  {
   "cell_type": "markdown",
   "id": "29a397d5",
   "metadata": {},
   "source": [
    "### Creating a Loss Function and Optimizer in PyTorch\n",
    "\n",
    "To measure how poor the predictions are, we can use a **loss function**.\n",
    "\n",
    "For our model to update its parameters on its own, we'll need to add a few more things to our recipe.\n",
    "\n",
    "And that's a **loss function** as well as an **optimizer**.\n",
    "\n",
    "The roles of these are:  \n",
    "\n",
    "| Function | What does it do? | Where does it live in PyTorch? | Common values |\n",
    "|-----------|------------------|--------------------------------|----------------|\n",
    "| **Loss function** | Measures how wrong your model's predictions (e.g. `y_preds`) are compared to the true labels (e.g. `y_test`). Lower is better. | PyTorch has plenty of built-in loss functions in [`torch.nn`](https://pytorch.org/docs/stable/nn.html#loss-functions). | Mean Absolute Error (MAE) for regression problems — [`torch.nn.L1Loss()`](https://pytorch.org/docs/stable/generated/torch.nn.L1Loss.html).<br>Binary Cross Entropy for binary classification — [`torch.nn.BCELoss()`](https://pytorch.org/docs/stable/generated/torch.nn.BCELoss.html). |\n",
    "| **Optimizer** | Tells your model how to update its internal parameters to best lower the loss. | You can find various optimization function implementations in [`torch.optim`](https://pytorch.org/docs/stable/optim.html). | Stochastic Gradient Descent — [`torch.optim.SGD()`](https://pytorch.org/docs/stable/generated/torch.optim.SGD.html#torch.optim.SGD).<br>Adam optimizer — [`torch.optim.Adam()`](https://pytorch.org/docs/stable/generated/torch.optim.Adam.html#torch.optim.Adam). |\n",
    "\n"
   ]
  },
  {
   "cell_type": "code",
   "execution_count": 120,
   "id": "c3de2247",
   "metadata": {},
   "outputs": [
    {
     "data": {
      "text/plain": [
       "OrderedDict([('weights', tensor([0.3367])), ('bias', tensor([0.1288]))])"
      ]
     },
     "execution_count": 120,
     "metadata": {},
     "output_type": "execute_result"
    }
   ],
   "source": [
    "model_0.state_dict()"
   ]
  },
  {
   "cell_type": "code",
   "execution_count": 121,
   "id": "cf5ed091",
   "metadata": {},
   "outputs": [],
   "source": [
    "# set up a loss function\n",
    "loss_fn = nn.L1Loss()\n",
    "\n",
    "\n",
    "#set up optimiser - params are the parameters you want to optimise\n",
    "optimiser = torch.optim.SGD(params = model_0.parameters(),\n",
    "                            lr=0.01)    #lr = learning rate , you choose (default = 0.1), defines how much the model changes the params in each step\n"
   ]
  },
  {
   "cell_type": "markdown",
   "id": "c6382137",
   "metadata": {},
   "source": [
    "### Training loop (testing loop)\n",
    "\n",
    "0. Loop through data\n",
    "1. Forward pass (data moving through forward() func)\n",
    "2. alculate the loss ( compare forward pass preditictions to actual vals)\n",
    "3. Optimiser zero grad \n",
    "4. Loss backwards - moves backwards through the network to calculate gradient of each aparamer wrt the loss\n",
    "5. Optimiser step - Use the optimiser to adjust our models parameters to try and improve the loss (gradient decent)\n"
   ]
  },
  {
   "cell_type": "code",
   "execution_count": 122,
   "id": "06c69966",
   "metadata": {},
   "outputs": [
    {
     "name": "stdout",
     "output_type": "stream",
     "text": [
      "99 tensor(0.0248, grad_fn=<MeanBackward0>) tensor(0.0569)\n",
      "Epoch: 99 | Loss: 0.02479521557688713 | Test loss: 0.05687814950942993\n"
     ]
    }
   ],
   "source": [
    "torch.manual_seed(42)\n",
    "# An epoch is one loop through the data...\n",
    "epochs = 100\n",
    "# track vals \n",
    "epoch_count =[]\n",
    "loss_vals = []\n",
    "test_loss_vals = []\n",
    "\n",
    "# 0. Loop through data\n",
    "for epoch in range(epochs):\n",
    "    # set the model to training mode\n",
    "    model_0.train() # train mode in PyTorch sets all params that require gradients to require gradients\n",
    "    # Forward pass\n",
    "    y_pred = model_0(X_train)\n",
    "    # Calculate the loss\n",
    "    loss = loss_fn(y_pred, y_train) # difference between predictions and actual\n",
    "     # print(loss)\n",
    "    # Optimiser 0 grad\n",
    "    optimiser.zero_grad()\n",
    "    #Perform back prop on loss wrt params\n",
    "    loss.backward()\n",
    "    #step the optimiser \n",
    "    optimiser.step()\n",
    "    # Testing\n",
    "    model_0.eval()\n",
    "    with torch.inference_mode(): # turns off gradient tracking \n",
    "        # 1. forward pass\n",
    "        test_pred = model_0(X_test)\n",
    "\n",
    "        test_loss = loss_fn(test_pred, y_test)\n",
    "    epoch_count.append(epoch)\n",
    "    loss_vals.append(loss)\n",
    "    test_loss_vals.append(test_loss)\n",
    "print(epoch_count[-1], loss_vals[-1], test_loss_vals[-1] )\n",
    "print(f\"Epoch: {epoch} | Loss: {loss} | Test loss: {test_loss}\")"
   ]
  },
  {
   "cell_type": "code",
   "execution_count": 123,
   "id": "9dfb8a8c",
   "metadata": {},
   "outputs": [
    {
     "data": {
      "text/plain": [
       "OrderedDict([('weights', tensor([0.5784])), ('bias', tensor([0.3513]))])"
      ]
     },
     "execution_count": 123,
     "metadata": {},
     "output_type": "execute_result"
    }
   ],
   "source": [
    "model_0.state_dict()"
   ]
  },
  {
   "cell_type": "code",
   "execution_count": 124,
   "id": "b1cce1f0",
   "metadata": {},
   "outputs": [
    {
     "data": {
      "image/png": "[encoded data removed]",
      "text/plain": [
       "<Figure size 1000x700 with 1 Axes>"
      ]
     },
     "metadata": {},
     "output_type": "display_data"
    },
    {
     "data": {
      "image/png": "[encoded data removed]",
      "text/plain": [
       "<Figure size 1000x700 with 1 Axes>"
      ]
     },
     "metadata": {},
     "output_type": "display_data"
    }
   ],
   "source": [
    "# now we can see the model get better \n",
    "with torch.inference_mode():\n",
    "    y_preds_new = model_0(X_test)\n",
    "\n",
    "plot_pred(predictions=y_preds)\n",
    "plot_pred(predictions=y_preds_new)"
   ]
  },
  {
   "cell_type": "code",
   "execution_count": null,
   "id": "0c889d76",
   "metadata": {},
   "outputs": [
    {
     "data": {
      "text/plain": [
       "<matplotlib.legend.Legend at 0x29ecd1eb590>"
      ]
     },
     "execution_count": 125,
     "metadata": {},
     "output_type": "execute_result"
    },
    {
     "data": {
      "image/png": "[encoded data removed]",
      "text/plain": [
       "<Figure size 640x480 with 1 Axes>"
      ]
     },
     "metadata": {},
     "output_type": "display_data"
    }
   ],
   "source": [
    "# convert from tensor to numpy to plot =  np.array(torch.tensor(loss_vals).numpy())\n",
    "import numpy as np\n",
    "\n",
    "plt.plot(epoch_count, np.array(torch.tensor(loss_vals).numpy()), label = 'Train Loss')\n",
    "plt.plot(epoch_count, np.array(torch.tensor(test_loss_vals).numpy()), label= 'Test Loss')\n",
    "plt.ylabel('Loss')\n",
    "plt.xlabel('Epochs')\n",
    "plt.legend()"
   ]
  },
  {
   "cell_type": "markdown",
   "id": "7b250dd2",
   "metadata": {},
   "source": [
    "## Saving a model in PyTorch\n",
    "\n",
    "Three methods to save and load \n",
    "\n",
    "1. 'torch.save()' - allows you to save PyTorch object in Python's pickle format\n",
    "2. 'torch.load()' - allows you to load \n",
    "3. 'torch.nn.Module.load_state_dict()' allows to load a models saved dict \n",
    "\n"
   ]
  },
  {
   "cell_type": "code",
   "execution_count": 128,
   "id": "c3273c42",
   "metadata": {},
   "outputs": [
    {
     "name": "stdout",
     "output_type": "stream",
     "text": [
      "Saving model to: C:\\Users\\willf\\JUNO-Deep-Learning-Project\\models\\model_0.pth\n"
     ]
    }
   ],
   "source": [
    "# Saving \n",
    "from pathlib import Path\n",
    "#1. create model directory\n",
    "MODEL_PATH = Path('C:/Users/willf/JUNO-Deep-Learning-Project/models')\n",
    "MODEL_PATH.mkdir(parents=True, exist_ok=True)\n",
    "MODEL_NAME = \"model_0.pth\"\n",
    "MODEL_SAVE_PATH = MODEL_PATH / MODEL_NAME\n",
    "\n",
    "\n",
    "print(f'Saving model to: {MODEL_SAVE_PATH}')\n",
    "torch.save(obj=model_0.state_dict(),\n",
    "           f=MODEL_SAVE_PATH)\n",
    "\n"
   ]
  },
  {
   "cell_type": "markdown",
   "id": "06b60732",
   "metadata": {},
   "source": [
    "# Loading model\n",
    "\n",
    "I saved the state_dict not the full model, so I will create a new instance of the model class.\n",
    "\n",
    "\n"
   ]
  },
  {
   "cell_type": "code",
   "execution_count": 129,
   "id": "be2060a3",
   "metadata": {},
   "outputs": [
    {
     "name": "stderr",
     "output_type": "stream",
     "text": [
      "C:\\Users\\willf\\AppData\\Local\\Temp\\ipykernel_6956\\3916095717.py:2: FutureWarning: You are using `torch.load` with `weights_only=False` (the current default value), which uses the default pickle module implicitly. It is possible to construct malicious pickle data which will execute arbitrary code during unpickling (See https://github.com/pytorch/pytorch/blob/main/SECURITY.md#untrusted-models for more details). In a future release, the default value for `weights_only` will be flipped to `True`. This limits the functions that could be executed during unpickling. Arbitrary objects will no longer be allowed to be loaded via this mode unless they are explicitly allowlisted by the user via `torch.serialization.add_safe_globals`. We recommend you start setting `weights_only=True` for any use case where you don't have full control of the loaded file. Please open an issue on GitHub for any issues related to this experimental feature.\n",
      "  loaded_model_0.load_state_dict(torch.load(f=MODEL_SAVE_PATH))\n"
     ]
    },
    {
     "data": {
      "text/plain": [
       "<All keys matched successfully>"
      ]
     },
     "execution_count": 129,
     "metadata": {},
     "output_type": "execute_result"
    }
   ],
   "source": [
    "loaded_model_0 = LinearRegressionModel()\n",
    "loaded_model_0.load_state_dict(torch.load(f=MODEL_SAVE_PATH))\n"
   ]
  },
  {
   "cell_type": "code",
   "execution_count": null,
   "id": "b6812031",
   "metadata": {},
   "outputs": [
    {
     "data": {
      "text/plain": [
       "(OrderedDict([('weights', tensor([0.5784])), ('bias', tensor([0.3513]))]),\n",
       " OrderedDict([('weights', tensor([0.5784])), ('bias', tensor([0.3513]))]))"
      ]
     },
     "execution_count": 131,
     "metadata": {},
     "output_type": "execute_result"
    }
   ],
   "source": [
    "# Now they match \n",
    "loaded_model_0.state_dict(), model_0.state_dict()"
   ]
  },
  {
   "cell_type": "code",
   "execution_count": 132,
   "id": "dc9b4501",
   "metadata": {},
   "outputs": [],
   "source": [
    "loaded_model_0.eval()\n",
    "with torch.inference_mode():\n",
    "    loaded_model_preds = loaded_model_0(X_test)"
   ]
  },
  {
   "cell_type": "code",
   "execution_count": 135,
   "id": "232de2e9",
   "metadata": {},
   "outputs": [
    {
     "data": {
      "text/plain": [
       "tensor([[True],\n",
       "        [True],\n",
       "        [True],\n",
       "        [True],\n",
       "        [True],\n",
       "        [True],\n",
       "        [True],\n",
       "        [True],\n",
       "        [True],\n",
       "        [True]])"
      ]
     },
     "execution_count": 135,
     "metadata": {},
     "output_type": "execute_result"
    }
   ],
   "source": [
    "y_preds == loaded_model_preds"
   ]
  },
  {
   "cell_type": "code",
   "execution_count": 136,
   "id": "9b03599e",
   "metadata": {},
   "outputs": [],
   "source": [
    "# Putting all together\n",
    "import torch\n",
    "from torch import nn\n",
    "import matplotlib.pyplot as plt\n",
    "import numpy as np "
   ]
  },
  {
   "cell_type": "code",
   "execution_count": null,
   "id": "3b0243c6",
   "metadata": {},
   "outputs": [],
   "source": []
  }
 ],
 "metadata": {
  "kernelspec": {
   "display_name": "base",
   "language": "python",
   "name": "python3"
  },
  "language_info": {
   "codemirror_mode": {
    "name": "ipython",
    "version": 3
   },
   "file_extension": ".py",
   "mimetype": "text/x-python",
   "name": "python",
   "nbconvert_exporter": "python",
   "pygments_lexer": "ipython3",
   "version": "3.12.3"
  }
 },
 "nbformat": 4,
 "nbformat_minor": 5
}
