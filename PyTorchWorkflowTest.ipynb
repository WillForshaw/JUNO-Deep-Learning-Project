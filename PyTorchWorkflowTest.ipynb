{
 "cells": [
  {
   "cell_type": "markdown",
   "id": "1ac07ee9",
   "metadata": {},
   "source": [
    "### 1. Prepare/Load Data\n",
    "### 2. Build Model\n",
    "### 3. Fitting model\n",
    "### 4. Making predictions / evaluating model\n",
    "### 5. Saving and loading the model\n"
   ]
  },
  {
   "cell_type": "code",
   "execution_count": 9,
   "id": "c6f307c2",
   "metadata": {},
   "outputs": [],
   "source": [
    "import torch\n",
    "from torch import nn  # contains neural network building blocks for PyTorch\n",
    "import matplotlib.pyplot as plt\n",
    "\n"
   ]
  },
  {
   "cell_type": "code",
   "execution_count": 2,
   "id": "454440c0",
   "metadata": {},
   "outputs": [
    {
     "data": {
      "text/plain": [
       "(tensor([[0.0000],\n",
       "         [0.0200],\n",
       "         [0.0400],\n",
       "         [0.0600],\n",
       "         [0.0800],\n",
       "         [0.1000],\n",
       "         [0.1200],\n",
       "         [0.1400],\n",
       "         [0.1600],\n",
       "         [0.1800]]),\n",
       " tensor([[0.3000],\n",
       "         [0.3140],\n",
       "         [0.3280],\n",
       "         [0.3420],\n",
       "         [0.3560],\n",
       "         [0.3700],\n",
       "         [0.3840],\n",
       "         [0.3980],\n",
       "         [0.4120],\n",
       "         [0.4260]]),\n",
       " 50,\n",
       " 50)"
      ]
     },
     "execution_count": 2,
     "metadata": {},
     "output_type": "execute_result"
    }
   ],
   "source": [
    "# 1. Data Preparing and loading \n",
    "# Starting with a linear regression formula\n",
    "\n",
    "# create known parameters\n",
    "weight = 0.7\n",
    "bias = 0.3 \n",
    "\n",
    "start = 0\n",
    "end = 1 \n",
    "\n",
    "step =0.02\n",
    "\n",
    "X = torch.arange(start,end,step).unsqueeze(dim =1)\n",
    "y = weight*X +bias\n",
    "\n",
    "X[:10], y[:10], len(X), len(y)\n",
    "\n"
   ]
  },
  {
   "cell_type": "code",
   "execution_count": 3,
   "id": "1c23bda1",
   "metadata": {},
   "outputs": [
    {
     "data": {
      "text/plain": [
       "(50, 50)"
      ]
     },
     "execution_count": 3,
     "metadata": {},
     "output_type": "execute_result"
    }
   ],
   "source": [
    "len(X),len(y)"
   ]
  },
  {
   "cell_type": "code",
   "execution_count": null,
   "id": "fe4c78ff",
   "metadata": {},
   "outputs": [
    {
     "data": {
      "text/plain": [
       "(40, 40, 10, 10)"
      ]
     },
     "execution_count": 5,
     "metadata": {},
     "output_type": "execute_result"
    }
   ],
   "source": [
    "# Test, Validation, Train split \n",
    "# 80% train , 20% test\n",
    "train_split = int(0.8*len(X))\n",
    "train_split\n",
    "X_train, y_train = X[:train_split], y[:train_split]\n",
    "X_test, y_test = X[train_split:], y[train_split:]\n",
    "\n",
    "len(X_train), len(y_train), len(X_test), len(y_test)\n"
   ]
  },
  {
   "cell_type": "code",
   "execution_count": 10,
   "id": "656e160b",
   "metadata": {},
   "outputs": [
    {
     "data": {
      "image/png": "[encoded data removed]",
      "text/plain": [
       "<Figure size 1000x700 with 1 Axes>"
      ]
     },
     "metadata": {},
     "output_type": "display_data"
    }
   ],
   "source": [
    "def plot_pred(train_data = X_train,\n",
    "              train_labels=y_train,\n",
    "              test_data=X_test,\n",
    "              test_labels=y_test,\n",
    "              predictions=None):\n",
    "    plt.figure(figsize=(10,7))\n",
    "    plt.scatter(train_data, train_labels, c='b', s=4, label= 'Training Data')\n",
    "\n",
    "    plt.scatter(test_data, test_labels, c='g', s=4, label = 'Testing Data')\n",
    "    if predictions is not None:\n",
    "        plt.scatter(test_data, predictions, c = 'r', s =4, label='Predictions')\n",
    "    plt.legend()\n",
    "plot_pred()"
   ]
  },
  {
   "cell_type": "code",
   "execution_count": 22,
   "id": "0353c831",
   "metadata": {},
   "outputs": [],
   "source": [
    "# 2. Build a Model .40\n",
    "\n",
    "class LinearRegressionModel(nn.Module):\n",
    "    def __init__(self):\n",
    "        super().__init__()\n",
    "        self.weights = nn.Parameter(torch.randn(1,\n",
    "                                    requires_grad=True,\n",
    "                                    dtype=torch.float))\n",
    "        self.bias = nn.Parameter(torch.randn(1,\n",
    "                                    requires_grad=True,\n",
    "                                    dtype=torch.float))\n",
    "    def forward(self, x: torch.Tensor):\n",
    "            return self.weights*x + self.bias\n",
    "        \n"
   ]
  },
  {
   "cell_type": "markdown",
   "id": "422eca70",
   "metadata": {},
   "source": [
    "### PyTorch essentials\n",
    "* torch.nn = contains everything fot computational graphs (neural networks)\n",
    "* torch.nn.Parameter = what parameters should the model learn \n",
    "* torch.nn.Module = The best class for all nn module, if subclassing, overwrite forward\n",
    "* def forward() - all nn.module subclasses require you to overwrite forward, this method defines what happenes in the forward method\n",
    "\n",
    "\n",
    "\n",
    "\n"
   ]
  },
  {
   "cell_type": "code",
   "execution_count": 23,
   "id": "5dc2dc75",
   "metadata": {},
   "outputs": [
    {
     "data": {
      "text/plain": [
       "[Parameter containing:\n",
       " tensor([0.3367], requires_grad=True),\n",
       " Parameter containing:\n",
       " tensor([0.1288], requires_grad=True)]"
      ]
     },
     "execution_count": 23,
     "metadata": {},
     "output_type": "execute_result"
    }
   ],
   "source": [
    "# Checking contents of model\n",
    "\n",
    "# create random seed\n",
    "torch.manual_seed(42)\n",
    "#create an instance of the model (subclass of nn.module)\n",
    "model_0 = LinearRegressionModel()\n",
    "list(model_0.parameters())"
   ]
  },
  {
   "cell_type": "code",
   "execution_count": 24,
   "id": "ce042725",
   "metadata": {},
   "outputs": [
    {
     "data": {
      "text/plain": [
       "OrderedDict([('weights', tensor([0.3367])), ('bias', tensor([0.1288]))])"
      ]
     },
     "execution_count": 24,
     "metadata": {},
     "output_type": "execute_result"
    }
   ],
   "source": [
    "#model output of weight and bias \n",
    "model_0.state_dict()"
   ]
  },
  {
   "cell_type": "code",
   "execution_count": 25,
   "id": "5df27f43",
   "metadata": {},
   "outputs": [
    {
     "data": {
      "text/plain": [
       "(0.7, 0.3)"
      ]
     },
     "execution_count": 25,
     "metadata": {},
     "output_type": "execute_result"
    }
   ],
   "source": [
    "# true values / target values \n",
    "weight, bias"
   ]
  },
  {
   "cell_type": "code",
   "execution_count": 26,
   "id": "6b5e0f42",
   "metadata": {},
   "outputs": [
    {
     "data": {
      "text/plain": [
       "tensor([[0.3982],\n",
       "        [0.4049],\n",
       "        [0.4116],\n",
       "        [0.4184],\n",
       "        [0.4251],\n",
       "        [0.4318],\n",
       "        [0.4386],\n",
       "        [0.4453],\n",
       "        [0.4520],\n",
       "        [0.4588]])"
      ]
     },
     "execution_count": 26,
     "metadata": {},
     "output_type": "execute_result"
    }
   ],
   "source": [
    "# making predicts using torch.inference\n",
    "# predictive power = how well it predicts y_test based on X_test\n",
    "with torch.inference_mode():\n",
    "    y_preds = model_0(X_test)\n",
    "\n",
    "y_preds"
   ]
  },
  {
   "cell_type": "code",
   "execution_count": null,
   "id": "733aec33",
   "metadata": {},
   "outputs": [
    {
     "data": {
      "image/png": "[encoded data removed]",
      "text/plain": [
       "<Figure size 1000x700 with 1 Axes>"
      ]
     },
     "metadata": {},
     "output_type": "display_data"
    }
   ],
   "source": [
    "plot_pred(predictions=y_preds) # initially the preds are very bad, very far away"
   ]
  },
  {
   "cell_type": "markdown",
   "id": "29a397d5",
   "metadata": {},
   "source": [
    "### to measure how poor the preds are, we can use a loss funciton\n",
    "\"### Creating a loss function and optimizer in PyTorch\\n\",\n",
    "    \"\\n\",\n",
    "    \"For our model to update its parameters on its own, we'll need to add a few more things to our recipe.\\n\",\n",
    "    \"\\n\",\n",
    "    \"And that's a **loss function** as well as an **optimizer**.\\n\",\n",
    "    \"\\n\",\n",
    "    \"The rolls of these are: \\n\",\n",
    "    \"\\n\",\n",
    "    \"| Function | What does it do? | Where does it live in PyTorch? | Common values |\\n\",\n",
    "    \"| ----- | ----- | ----- | ----- |\\n\",\n",
    "    \"| **Loss function** | Measures how wrong your model's predictions (e.g. `y_preds`) are compared to the truth labels (e.g. `y_test`). Lower the better. | PyTorch has plenty of built-in loss functions in [`torch.nn`](https://pytorch.org/docs/stable/nn.html#loss-functions). | Mean absolute error (MAE) for regression problems ([`torch.nn.L1Loss()`](https://pytorch.org/docs/stable/generated/torch.nn.L1Loss.html)). Binary cross entropy for binary classification problems ([`torch.nn.BCELoss()`](https://pytorch.org/docs/stable/generated/torch.nn.BCELoss.html)).  |\\n\",\n",
    "    \"| **Optimizer** | Tells your model how to update its internal parameters to best lower the loss. | You can find various optimization function implementations in [`torch.optim`](https://pytorch.org/docs/stable/optim.html). | Stochastic gradient descent ([`torch.optim.SGD()`](https://pytorch.org/docs/stable/generated/torch.optim.SGD.html#torch.optim.SGD)). Adam optimizer ([`torch.optim.Adam()`](https://pytorch.org/docs/stable/generated/torch.optim.Adam.html#torch.optim.Adam)). | \\n\",\n",
    "    \"\\n\",\n",
    "    \"Let's create a loss function and an optimizer we can use to help improve our model.\\n\",\n",
    "    \"\\n\",\n",
    "    \"Depending on what kind of problem you're working on will depend on what loss function and what optimizer you use.\\n\",\n",
    "    \"\\n\",\n",
    "    \"However, there are some common values, that are known to work well such as the SGD (stochastic gradient descent) or Adam optimizer. And the MAE (mean absolute error) loss function for regression problems (predicting a number) or binary cross entropy loss function for classification problems (predicting one thing or another). \\n\",\n",
    "    \"\\n\",\n",
    "    \"For our problem, since we're predicting a number, let's use MAE (which is under `torch.nn.L1Loss()`) in PyTorch as our loss function. \\n\",\n",
    "    \"\\n\",\n",
    "    \"![what MAE loss looks like for our plot data](https://raw.githubusercontent.com/mrdbourke/pytorch-deep-learning/main/images/01-mae-loss-annotated.png)\\n\",\n",
    "    \"*Mean absolute error (MAE, in PyTorch: `torch.nn.L1Loss`) measures the absolute difference between two points (predictions and labels) and then takes the mean across all examples.*\\n\",\n",
    "    \"\\n\",\n",
    "    \"And we'll use SGD, `torch.optim.SGD(params, lr)` where:\\n\",\n",
    "    \"\\n\",\n",
    "    \"* `params` is the target model parameters you'd like to optimize (e.g. the `weights` and `bias` values we randomly set before).\\n\",\n",
    "    "
   ]
  }
 ],
 "metadata": {
  "kernelspec": {
   "display_name": "base",
   "language": "python",
   "name": "python3"
  },
  "language_info": {
   "codemirror_mode": {
    "name": "ipython",
    "version": 3
   },
   "file_extension": ".py",
   "mimetype": "text/x-python",
   "name": "python",
   "nbconvert_exporter": "python",
   "pygments_lexer": "ipython3",
   "version": "3.12.3"
  }
 },
 "nbformat": 4,
 "nbformat_minor": 5
}
