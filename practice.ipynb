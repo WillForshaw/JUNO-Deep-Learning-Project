{
 "cells": [
  {
   "cell_type": "code",
   "execution_count": 2,
   "id": "065e692c",
   "metadata": {},
   "outputs": [
    {
     "name": "stdout",
     "output_type": "stream",
     "text": [
      "tensor(7)\n",
      "0\n",
      "tensor([7, 7])\n"
     ]
    }
   ],
   "source": [
    "import torch\n",
    "import numpy as np\n",
    "import matplotlib.pyplot as plt\n",
    "import pandas as pd\n",
    "\n",
    "# Scalar\n",
    "scalar = torch.tensor(7)\n",
    "print(scalar)\n",
    "print(scalar.ndim) #0 dimensions\n",
    "#\n",
    "# Tensors are created using torch.tensor\n",
    "# Vector \n",
    "vector = torch.tensor([7,7])\n",
    "print(vector)"
   ]
  },
  {
   "cell_type": "code",
   "execution_count": 8,
   "id": "d6c84740",
   "metadata": {},
   "outputs": [
    {
     "data": {
      "text/plain": [
       "torch.Size([2, 2])"
      ]
     },
     "execution_count": 8,
     "metadata": {},
     "output_type": "execute_result"
    }
   ],
   "source": [
    "# matrix\n",
    "MATRIX = torch.tensor([[7,8],[9,10]])\n",
    "MATRIX[1]\n",
    "MATRIX.shape"
   ]
  },
  {
   "cell_type": "code",
   "execution_count": 16,
   "id": "acabfb6b",
   "metadata": {},
   "outputs": [
    {
     "data": {
      "text/plain": [
       "tensor([[1, 2, 3],\n",
       "        [3, 6, 9],\n",
       "        [2, 4, 5]])"
      ]
     },
     "execution_count": 16,
     "metadata": {},
     "output_type": "execute_result"
    }
   ],
   "source": [
    "# TENSOR\n",
    "\n",
    "TENSOR = torch.tensor([[[1,2,3],[3,6,9],[2,4,5]]])\n",
    "TENSOR[0]"
   ]
  },
  {
   "cell_type": "code",
   "execution_count": 17,
   "id": "a862232b",
   "metadata": {},
   "outputs": [
    {
     "data": {
      "text/plain": [
       "tensor([[0.0411, 0.3769, 0.3567, 0.4726, 0.7039],\n",
       "        [0.7722, 0.6397, 0.0887, 0.4856, 0.7257],\n",
       "        [0.9839, 0.6905, 0.8456, 0.0565, 0.8509]])"
      ]
     },
     "execution_count": 17,
     "metadata": {},
     "output_type": "execute_result"
    }
   ],
   "source": [
    "# create random tensor\n",
    "ran_ten = torch.rand(3,5)\n",
    "ran_ten"
   ]
  },
  {
   "cell_type": "code",
   "execution_count": 18,
   "id": "1e93e0e1",
   "metadata": {},
   "outputs": [
    {
     "data": {
      "text/plain": [
       "(torch.Size([224, 224, 3]), 3)"
      ]
     },
     "execution_count": 18,
     "metadata": {},
     "output_type": "execute_result"
    }
   ],
   "source": [
    "#create randome tensor with similar shape to image tensor\n",
    "random_image_T = torch.rand(224,224,3) #height, width, colour channels (R,G,B)\n",
    "random_image_T.shape, random_image_T.ndim"
   ]
  },
  {
   "cell_type": "code",
   "execution_count": 22,
   "id": "6b2fc631",
   "metadata": {},
   "outputs": [
    {
     "data": {
      "text/plain": [
       "tensor([[1., 1., 1., 1., 1.],\n",
       "        [1., 1., 1., 1., 1.],\n",
       "        [1., 1., 1., 1., 1.]])"
      ]
     },
     "execution_count": 22,
     "metadata": {},
     "output_type": "execute_result"
    }
   ],
   "source": [
    "#Zeros and ones \n",
    "#T of all Zeros\n",
    "zero = torch.zeros(3,5)\n",
    "zero*ran_ten\n",
    "#T of all ones\n",
    "one = torch.ones(3,5)\n",
    "one"
   ]
  },
  {
   "cell_type": "code",
   "execution_count": 23,
   "id": "9a458836",
   "metadata": {},
   "outputs": [
    {
     "data": {
      "text/plain": [
       "tensor([ 1,  2,  3,  4,  5,  6,  7,  8,  9, 10])"
      ]
     },
     "execution_count": 23,
     "metadata": {},
     "output_type": "execute_result"
    }
   ],
   "source": [
    "one_to_ten = torch.arange(start=1, end = 11, step = 1)\n",
    "one_to_ten"
   ]
  },
  {
   "cell_type": "code",
   "execution_count": 24,
   "id": "89349ce0",
   "metadata": {},
   "outputs": [
    {
     "data": {
      "text/plain": [
       "tensor([0, 0, 0, 0, 0, 0, 0, 0, 0, 0])"
      ]
     },
     "execution_count": 24,
     "metadata": {},
     "output_type": "execute_result"
    }
   ],
   "source": [
    "#Creating like tensors \n",
    "ten_zeros = torch.zeros_like(input=one_to_ten)\n",
    "ten_zeros"
   ]
  },
  {
   "cell_type": "code",
   "execution_count": null,
   "id": "d7eeaa2d",
   "metadata": {},
   "outputs": [
    {
     "data": {
      "text/plain": [
       "tensor([3., 6., 9.])"
      ]
     },
     "execution_count": 26,
     "metadata": {},
     "output_type": "execute_result"
    }
   ],
   "source": [
    "# Tensor DataTypes \n",
    "float_32_tensor = torch.tensor([3.0,6.0,9.0],      \n",
    "                               dtype = None,        #datatype\n",
    "                               device = None,       #\n",
    "                               requires_grad = False)\n",
    "float_32_tensor\n",
    "\n",
    "# Note- 3 big common errors in deep learning \n",
    "# 1 - Tensors not right datatype ( use tensor.dtype)\n",
    "# 2 - Tensors not right shape ( use tensor.shape)\n",
    "# 3 - Tensors not on right device (use tensor.device)"
   ]
  },
  {
   "cell_type": "code",
   "execution_count": 27,
   "id": "9158ea03",
   "metadata": {},
   "outputs": [
    {
     "data": {
      "text/plain": [
       "tensor([3., 6., 9.], dtype=torch.float16)"
      ]
     },
     "execution_count": 27,
     "metadata": {},
     "output_type": "execute_result"
    }
   ],
   "source": [
    "float_16_tensor = float_32_tensor.type(torch.float16)\n",
    "float_16_tensor"
   ]
  },
  {
   "cell_type": "code",
   "execution_count": 28,
   "id": "7296bee4",
   "metadata": {},
   "outputs": [
    {
     "data": {
      "text/plain": [
       "tensor([[0.0281, 0.9105, 0.3065, 0.9984],\n",
       "        [0.6284, 0.7747, 0.5968, 0.8358],\n",
       "        [0.8870, 0.0681, 0.5782, 0.5963]])"
      ]
     },
     "execution_count": 28,
     "metadata": {},
     "output_type": "execute_result"
    }
   ],
   "source": [
    "sometensor = torch.rand(3,4)\n",
    "sometensor"
   ]
  },
  {
   "cell_type": "code",
   "execution_count": 31,
   "id": "8fcadbe2",
   "metadata": {},
   "outputs": [
    {
     "name": "stdout",
     "output_type": "stream",
     "text": [
      "tensor([[0.0281, 0.9105, 0.3065, 0.9984],\n",
      "        [0.6284, 0.7747, 0.5968, 0.8358],\n",
      "        [0.8870, 0.0681, 0.5782, 0.5963]])\n",
      "datatype is torch.float32\n",
      "shape of tensor is torch.Size([3, 4])\n",
      "device of tensor is cpu\n"
     ]
    }
   ],
   "source": [
    "#find out details\n",
    "print(sometensor)\n",
    "print(f\"datatype is {sometensor.dtype}\")\n",
    "print(f\"shape of tensor is {sometensor.shape}\")\n",
    "print(f\"device of tensor is {sometensor.device}\")"
   ]
  },
  {
   "cell_type": "code",
   "execution_count": null,
   "id": "acadc7e1",
   "metadata": {},
   "outputs": [
    {
     "data": {
      "text/plain": [
       "tensor([0.1000, 0.2000, 0.3000])"
      ]
     },
     "execution_count": 34,
     "metadata": {},
     "output_type": "execute_result"
    }
   ],
   "source": [
    "# Tensor operations: Add, subtract,multiply,division, matrix multiplication\n",
    "tens = torch.tensor([1,2,3])\n",
    "\n",
    "tens/10"
   ]
  },
  {
   "cell_type": "code",
   "execution_count": 38,
   "id": "3deb3fb6",
   "metadata": {},
   "outputs": [
    {
     "data": {
      "text/plain": [
       "tensor([[[-11,  23,  42],\n",
       "         [-14,  53,  96],\n",
       "         [-17,  83, 150]]])"
      ]
     },
     "execution_count": 38,
     "metadata": {},
     "output_type": "execute_result"
    }
   ],
   "source": [
    "# Matrix multiplication\n",
    "test = torch.tensor([[[1,2,3],[4,5,6],[7,8,9]]]) # a matrix where each [] is a row so test = [1 2 3]\n",
    "test1 = torch.tensor([[[2,5,3],[4,-3,6],[-7,8,9]]])                                      #   [4 5 6] \n",
    "torch.matmul(test,test1)                                                                 #   [7 8 9]"
   ]
  },
  {
   "cell_type": "code",
   "execution_count": 39,
   "id": "58dd0ed2",
   "metadata": {},
   "outputs": [
    {
     "data": {
      "text/plain": [
       "tensor([[[1],\n",
       "         [4],\n",
       "         [7]],\n",
       "\n",
       "        [[2],\n",
       "         [5],\n",
       "         [8]],\n",
       "\n",
       "        [[3],\n",
       "         [6],\n",
       "         [9]]])"
      ]
     },
     "execution_count": 39,
     "metadata": {},
     "output_type": "execute_result"
    }
   ],
   "source": [
    "#Transpose\n",
    "test.T"
   ]
  },
  {
   "cell_type": "code",
   "execution_count": 40,
   "id": "2d4753e4",
   "metadata": {},
   "outputs": [
    {
     "data": {
      "text/plain": [
       "tensor(0)"
      ]
     },
     "execution_count": 40,
     "metadata": {},
     "output_type": "execute_result"
    }
   ],
   "source": [
    "# find min, max, mean, sum\n",
    "x = torch.arange(0,100,10)\n",
    "min(x)\n"
   ]
  },
  {
   "cell_type": "code",
   "execution_count": 41,
   "id": "1a47f61e",
   "metadata": {},
   "outputs": [
    {
     "data": {
      "text/plain": [
       "tensor(90)"
      ]
     },
     "execution_count": 41,
     "metadata": {},
     "output_type": "execute_result"
    }
   ],
   "source": [
    "max(x)"
   ]
  },
  {
   "cell_type": "code",
   "execution_count": 42,
   "id": "bbc74f81",
   "metadata": {},
   "outputs": [
    {
     "data": {
      "text/plain": [
       "tensor(450)"
      ]
     },
     "execution_count": 42,
     "metadata": {},
     "output_type": "execute_result"
    }
   ],
   "source": [
    "x.sum()"
   ]
  },
  {
   "cell_type": "code",
   "execution_count": null,
   "id": "ab65aeed",
   "metadata": {},
   "outputs": [],
   "source": []
  }
 ],
 "metadata": {
  "kernelspec": {
   "display_name": "base",
   "language": "python",
   "name": "python3"
  },
  "language_info": {
   "codemirror_mode": {
    "name": "ipython",
    "version": 3
   },
   "file_extension": ".py",
   "mimetype": "text/x-python",
   "name": "python",
   "nbconvert_exporter": "python",
   "pygments_lexer": "ipython3",
   "version": "3.12.3"
  }
 },
 "nbformat": 4,
 "nbformat_minor": 5
}
